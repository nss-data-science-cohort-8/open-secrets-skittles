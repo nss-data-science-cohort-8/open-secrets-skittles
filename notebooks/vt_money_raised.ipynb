{
 "cells": [
  {
   "cell_type": "code",
   "execution_count": 1,
   "metadata": {},
   "outputs": [],
   "source": [
    "import pandas as pd\n"
   ]
  },
  {
   "cell_type": "code",
   "execution_count": 39,
   "metadata": {},
   "outputs": [],
   "source": [
    "results_df = pd.read_csv('../data/States_df.csv')"
   ]
  },
  {
   "cell_type": "code",
   "execution_count": 40,
   "metadata": {},
   "outputs": [
    {
     "data": {
      "text/html": [
       "<div>\n",
       "<style scoped>\n",
       "    .dataframe tbody tr th:only-of-type {\n",
       "        vertical-align: middle;\n",
       "    }\n",
       "\n",
       "    .dataframe tbody tr th {\n",
       "        vertical-align: top;\n",
       "    }\n",
       "\n",
       "    .dataframe thead th {\n",
       "        text-align: right;\n",
       "    }\n",
       "</style>\n",
       "<table border=\"1\" class=\"dataframe\">\n",
       "  <thead>\n",
       "    <tr style=\"text-align: right;\">\n",
       "      <th></th>\n",
       "      <th>District</th>\n",
       "      <th>State</th>\n",
       "      <th>cid</th>\n",
       "      <th>FirstLastP</th>\n",
       "      <th>Rcpts</th>\n",
       "      <th>Spent</th>\n",
       "      <th>PACs</th>\n",
       "      <th>Indivs</th>\n",
       "      <th>Cand</th>\n",
       "      <th>Other</th>\n",
       "      <th>...</th>\n",
       "      <th>Result</th>\n",
       "      <th>CRPICO</th>\n",
       "      <th>IncCID</th>\n",
       "      <th>Incumbent</th>\n",
       "      <th>primarydate</th>\n",
       "      <th>DistIDCurr</th>\n",
       "      <th>capeye</th>\n",
       "      <th>sort</th>\n",
       "      <th>SmLgIndivsNote</th>\n",
       "      <th>Party</th>\n",
       "    </tr>\n",
       "  </thead>\n",
       "  <tbody>\n",
       "    <tr>\n",
       "      <th>0</th>\n",
       "      <td>1</td>\n",
       "      <td>Alabama</td>\n",
       "      <td>N00044245</td>\n",
       "      <td>Jerry Carl (R)</td>\n",
       "      <td>1971321.50</td>\n",
       "      <td>1859348.91</td>\n",
       "      <td>387000.0</td>\n",
       "      <td>1044195.95</td>\n",
       "      <td>434655.5</td>\n",
       "      <td>105470.05</td>\n",
       "      <td>...</td>\n",
       "      <td>W</td>\n",
       "      <td>O</td>\n",
       "      <td>NaN</td>\n",
       "      <td>NaN</td>\n",
       "      <td>2020-03-03 00:00:00 +0000</td>\n",
       "      <td></td>\n",
       "      <td>0</td>\n",
       "      <td>2</td>\n",
       "      <td>N</td>\n",
       "      <td>['Jerry', ' ', 'Carl', ' ', '(R)']</td>\n",
       "    </tr>\n",
       "    <tr>\n",
       "      <th>1</th>\n",
       "      <td>1</td>\n",
       "      <td>Alabama</td>\n",
       "      <td>N00044750</td>\n",
       "      <td>James Averhart (D)</td>\n",
       "      <td>80094.95</td>\n",
       "      <td>78973.24</td>\n",
       "      <td>0.0</td>\n",
       "      <td>50849.95</td>\n",
       "      <td>29245.0</td>\n",
       "      <td>0.00</td>\n",
       "      <td>...</td>\n",
       "      <td>L</td>\n",
       "      <td>O</td>\n",
       "      <td>NaN</td>\n",
       "      <td>NaN</td>\n",
       "      <td>2020-03-03 00:00:00 +0000</td>\n",
       "      <td></td>\n",
       "      <td>0</td>\n",
       "      <td>2</td>\n",
       "      <td>N</td>\n",
       "      <td>['James', ' ', 'Averhart', ' ', '(D)']</td>\n",
       "    </tr>\n",
       "  </tbody>\n",
       "</table>\n",
       "<p>2 rows × 26 columns</p>\n",
       "</div>"
      ],
      "text/plain": [
       "   District    State        cid          FirstLastP       Rcpts       Spent  \\\n",
       "0         1  Alabama  N00044245      Jerry Carl (R)  1971321.50  1859348.91   \n",
       "1         1  Alabama  N00044750  James Averhart (D)    80094.95    78973.24   \n",
       "\n",
       "       PACs      Indivs      Cand      Other  ...  Result  CRPICO  IncCID  \\\n",
       "0  387000.0  1044195.95  434655.5  105470.05  ...       W       O     NaN   \n",
       "1       0.0    50849.95   29245.0       0.00  ...       L       O     NaN   \n",
       "\n",
       "  Incumbent                primarydate  DistIDCurr capeye sort  \\\n",
       "0       NaN  2020-03-03 00:00:00 +0000                  0    2   \n",
       "1       NaN  2020-03-03 00:00:00 +0000                  0    2   \n",
       "\n",
       "   SmLgIndivsNote                                   Party  \n",
       "0               N      ['Jerry', ' ', 'Carl', ' ', '(R)']  \n",
       "1               N  ['James', ' ', 'Averhart', ' ', '(D)']  \n",
       "\n",
       "[2 rows x 26 columns]"
      ]
     },
     "execution_count": 40,
     "metadata": {},
     "output_type": "execute_result"
    }
   ],
   "source": [
    "results_df.head(2)"
   ]
  },
  {
   "cell_type": "code",
   "execution_count": 41,
   "metadata": {},
   "outputs": [
    {
     "name": "stdout",
     "output_type": "stream",
     "text": [
      "<class 'pandas.core.frame.DataFrame'>\n",
      "RangeIndex: 1264 entries, 0 to 1263\n",
      "Data columns (total 26 columns):\n",
      " #   Column          Non-Null Count  Dtype  \n",
      "---  ------          --------------  -----  \n",
      " 0   District        1264 non-null   int64  \n",
      " 1   State           1264 non-null   object \n",
      " 2   cid             1264 non-null   object \n",
      " 3   FirstLastP      1264 non-null   object \n",
      " 4   Rcpts           1264 non-null   float64\n",
      " 5   Spent           1264 non-null   float64\n",
      " 6   PACs            1264 non-null   float64\n",
      " 7   Indivs          1264 non-null   float64\n",
      " 8   Cand            1264 non-null   float64\n",
      " 9   Other           1264 non-null   float64\n",
      " 10  EndCash         1264 non-null   float64\n",
      " 11  LgIndivs        1264 non-null   float64\n",
      " 12  SmIndivs        1264 non-null   float64\n",
      " 13  enddate         901 non-null    object \n",
      " 14  ReleaseDate     1264 non-null   object \n",
      " 15  VotePercent     1264 non-null   float64\n",
      " 16  Result          1264 non-null   object \n",
      " 17  CRPICO          1264 non-null   object \n",
      " 18  IncCID          0 non-null      float64\n",
      " 19  Incumbent       0 non-null      float64\n",
      " 20  primarydate     1264 non-null   object \n",
      " 21  DistIDCurr      901 non-null    object \n",
      " 22  capeye          1264 non-null   int64  \n",
      " 23  sort            1264 non-null   int64  \n",
      " 24  SmLgIndivsNote  1264 non-null   object \n",
      " 25  Party           1264 non-null   object \n",
      "dtypes: float64(12), int64(3), object(11)\n",
      "memory usage: 256.9+ KB\n"
     ]
    }
   ],
   "source": [
    "results_df.info()"
   ]
  },
  {
   "cell_type": "markdown",
   "metadata": {},
   "source": [
    "- how often does the candidate who raised the most money win? \n",
    "- group by state and district -- added new column so only need to group by the one column\n",
    "- do you put in a flag to say this person raised the most, already have the win in the results column \n",
    "- then see out of x districts and states how many of them (so count total races) and then count how many people won and divide that by the total seats\n"
   ]
  },
  {
   "cell_type": "code",
   "execution_count": 42,
   "metadata": {},
   "outputs": [
    {
     "data": {
      "text/plain": [
       "435"
      ]
     },
     "execution_count": 42,
     "metadata": {},
     "output_type": "execute_result"
    }
   ],
   "source": [
    "# how many unique districts and states there are \n",
    "# making new column in df to combine district and state\n",
    "results_df['st_dist'] = results_df['State'] + results_df['District'].astype(str)\n",
    "total_seats = results_df['st_dist'].nunique()\n",
    "total_seats\n"
   ]
  },
  {
   "cell_type": "code",
   "execution_count": null,
   "metadata": {},
   "outputs": [
    {
     "data": {
      "text/plain": [
       "st_dist\n",
       "Alabama1      1971321.50\n",
       "Alabama2       650806.75\n",
       "Alabama3      1193111.43\n",
       "Alabama4      1255076.11\n",
       "Alabama5       655364.80\n",
       "                 ...    \n",
       "Wisconsin5    1155720.78\n",
       "Wisconsin6    1815756.42\n",
       "Wisconsin7    2637459.08\n",
       "Wisconsin8    3202904.74\n",
       "Wyoming1      3003883.34\n",
       "Name: Rcpts, Length: 435, dtype: float64"
      ]
     },
     "execution_count": 43,
     "metadata": {},
     "output_type": "execute_result"
    }
   ],
   "source": [
    "# flagging row for who raised the most for each state district, function created below to do this, this was code to see group by working\n",
    "results_df.groupby('st_dist')['Rcpts'].max()\n"
   ]
  },
  {
   "cell_type": "code",
   "execution_count": null,
   "metadata": {},
   "outputs": [],
   "source": [
    "# function to determine who raised the most in the group \n",
    "def max_cont_dist(df, dist, raised):\n",
    "    highest_raised = df.groupby(dist)[raised].transform('max')\n",
    "    return (df[raised] == highest_raised).astype(int)\n",
    "\n",
    "# adding column to flag the row that raised the most per group\n",
    "results_df['max_raised'] = max_cont_dist(results_df, 'st_dist', 'Rcpts')"
   ]
  },
  {
   "cell_type": "code",
   "execution_count": 61,
   "metadata": {},
   "outputs": [
    {
     "data": {
      "text/plain": [
       "384"
      ]
     },
     "execution_count": 61,
     "metadata": {},
     "output_type": "execute_result"
    }
   ],
   "source": [
    "# counting how many groups where the person that won raised the most money\n",
    "winners = results_df.groupby('st_dist')[['Result', 'max_raised']].apply(lambda x: (x['Result'] == 'W') & (x['max_raised'] == 1)).sum()\n",
    "winners"
   ]
  },
  {
   "cell_type": "code",
   "execution_count": 63,
   "metadata": {},
   "outputs": [
    {
     "data": {
      "text/plain": [
       "88.27586206896552"
      ]
     },
     "execution_count": 63,
     "metadata": {},
     "output_type": "execute_result"
    }
   ],
   "source": [
    "# percentage of times where the most money raised wins the race\n",
    "(winners / total_seats) * 100"
   ]
  },
  {
   "cell_type": "markdown",
   "metadata": {},
   "source": [
    "88.27% of the time the person who raised the most money won the campaign"
   ]
  }
 ],
 "metadata": {
  "kernelspec": {
   "display_name": "base",
   "language": "python",
   "name": "python3"
  },
  "language_info": {
   "codemirror_mode": {
    "name": "ipython",
    "version": 3
   },
   "file_extension": ".py",
   "mimetype": "text/x-python",
   "name": "python",
   "nbconvert_exporter": "python",
   "pygments_lexer": "ipython3",
   "version": "3.12.4"
  }
 },
 "nbformat": 4,
 "nbformat_minor": 2
}
