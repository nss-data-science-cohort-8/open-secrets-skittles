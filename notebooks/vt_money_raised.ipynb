{
 "cells": [
  {
   "cell_type": "code",
   "execution_count": 15,
   "metadata": {},
   "outputs": [],
   "source": [
    "import pandas as pd\n",
    "import matplotlib.pyplot as plt \n",
    "import seaborn as sns"
   ]
  },
  {
   "cell_type": "code",
   "execution_count": 3,
   "metadata": {},
   "outputs": [],
   "source": [
    "results_df = pd.read_csv('../data/States_clean_df.csv')"
   ]
  },
  {
   "cell_type": "code",
   "execution_count": 4,
   "metadata": {},
   "outputs": [
    {
     "data": {
      "text/html": [
       "<div>\n",
       "<style scoped>\n",
       "    .dataframe tbody tr th:only-of-type {\n",
       "        vertical-align: middle;\n",
       "    }\n",
       "\n",
       "    .dataframe tbody tr th {\n",
       "        vertical-align: top;\n",
       "    }\n",
       "\n",
       "    .dataframe thead th {\n",
       "        text-align: right;\n",
       "    }\n",
       "</style>\n",
       "<table border=\"1\" class=\"dataframe\">\n",
       "  <thead>\n",
       "    <tr style=\"text-align: right;\">\n",
       "      <th></th>\n",
       "      <th>State</th>\n",
       "      <th>District</th>\n",
       "      <th>FirstLastP</th>\n",
       "      <th>Party</th>\n",
       "      <th>Raised</th>\n",
       "      <th>Spent</th>\n",
       "      <th>Difference</th>\n",
       "      <th>Outcome</th>\n",
       "      <th>Winner</th>\n",
       "      <th>CRPICO</th>\n",
       "    </tr>\n",
       "  </thead>\n",
       "  <tbody>\n",
       "    <tr>\n",
       "      <th>0</th>\n",
       "      <td>Alabama</td>\n",
       "      <td>1</td>\n",
       "      <td>Jerry Carl (R)</td>\n",
       "      <td>R</td>\n",
       "      <td>1971321.50</td>\n",
       "      <td>1859348.91</td>\n",
       "      <td>111972.59</td>\n",
       "      <td>W</td>\n",
       "      <td>1</td>\n",
       "      <td>O</td>\n",
       "    </tr>\n",
       "    <tr>\n",
       "      <th>1</th>\n",
       "      <td>Alabama</td>\n",
       "      <td>1</td>\n",
       "      <td>James Averhart (D)</td>\n",
       "      <td>D</td>\n",
       "      <td>80094.95</td>\n",
       "      <td>78973.24</td>\n",
       "      <td>1121.71</td>\n",
       "      <td>L</td>\n",
       "      <td>0</td>\n",
       "      <td>O</td>\n",
       "    </tr>\n",
       "  </tbody>\n",
       "</table>\n",
       "</div>"
      ],
      "text/plain": [
       "     State  District          FirstLastP Party      Raised       Spent  \\\n",
       "0  Alabama         1      Jerry Carl (R)     R  1971321.50  1859348.91   \n",
       "1  Alabama         1  James Averhart (D)     D    80094.95    78973.24   \n",
       "\n",
       "   Difference Outcome  Winner CRPICO  \n",
       "0   111972.59       W       1      O  \n",
       "1     1121.71       L       0      O  "
      ]
     },
     "execution_count": 4,
     "metadata": {},
     "output_type": "execute_result"
    }
   ],
   "source": [
    "results_df.head(2)"
   ]
  },
  {
   "cell_type": "code",
   "execution_count": 5,
   "metadata": {},
   "outputs": [
    {
     "name": "stdout",
     "output_type": "stream",
     "text": [
      "<class 'pandas.core.frame.DataFrame'>\n",
      "RangeIndex: 851 entries, 0 to 850\n",
      "Data columns (total 10 columns):\n",
      " #   Column      Non-Null Count  Dtype  \n",
      "---  ------      --------------  -----  \n",
      " 0   State       851 non-null    object \n",
      " 1   District    851 non-null    int64  \n",
      " 2   FirstLastP  851 non-null    object \n",
      " 3   Party       851 non-null    object \n",
      " 4   Raised      851 non-null    float64\n",
      " 5   Spent       851 non-null    float64\n",
      " 6   Difference  851 non-null    float64\n",
      " 7   Outcome     851 non-null    object \n",
      " 8   Winner      851 non-null    int64  \n",
      " 9   CRPICO      851 non-null    object \n",
      "dtypes: float64(3), int64(2), object(5)\n",
      "memory usage: 66.6+ KB\n"
     ]
    }
   ],
   "source": [
    "results_df.info()"
   ]
  },
  {
   "cell_type": "markdown",
   "metadata": {},
   "source": [
    "- how often does the candidate who raised the most money win? \n",
    "- group by state and district -- added new column so only need to group by the one column\n",
    "- do you put in a flag to say this person raised the most, already have the win in the results column \n",
    "- then see out of x districts and states how many of them (so count total races) and then count how many people won and divide that by the total seats\n"
   ]
  },
  {
   "cell_type": "code",
   "execution_count": 6,
   "metadata": {},
   "outputs": [
    {
     "data": {
      "text/plain": [
       "435"
      ]
     },
     "execution_count": 6,
     "metadata": {},
     "output_type": "execute_result"
    }
   ],
   "source": [
    "# how many unique districts and states there are \n",
    "# making new column in df to combine district and state\n",
    "results_df['st_dist'] = results_df['State'] + results_df['District'].astype(str)\n",
    "total_seats = results_df['st_dist'].nunique()\n",
    "total_seats\n"
   ]
  },
  {
   "cell_type": "code",
   "execution_count": 7,
   "metadata": {},
   "outputs": [
    {
     "data": {
      "text/plain": [
       "st_dist\n",
       "Alabama1      1971321.50\n",
       "Alabama2       650806.75\n",
       "Alabama3      1193111.43\n",
       "Alabama4      1255076.11\n",
       "Alabama5       655364.80\n",
       "                 ...    \n",
       "Wisconsin5    1155720.78\n",
       "Wisconsin6    1815756.42\n",
       "Wisconsin7    2637459.08\n",
       "Wisconsin8    3202904.74\n",
       "Wyoming1      3003883.34\n",
       "Name: Raised, Length: 435, dtype: float64"
      ]
     },
     "execution_count": 7,
     "metadata": {},
     "output_type": "execute_result"
    }
   ],
   "source": [
    "# flagging row for who raised the most for each state district, function created below to do this, this was code to see group by working\n",
    "results_df.groupby('st_dist')['Raised'].max()\n"
   ]
  },
  {
   "cell_type": "code",
   "execution_count": 8,
   "metadata": {},
   "outputs": [],
   "source": [
    "# function to determine who raised the most in the group \n",
    "def max_cont_dist(df, dist, raised):\n",
    "    highest_raised = df.groupby(dist)[raised].transform('max')\n",
    "    return (df[raised] == highest_raised).astype(int)\n",
    "\n",
    "# adding column to flag the row that raised the most per group\n",
    "results_df['max_raised'] = max_cont_dist(results_df, 'st_dist', 'Raised')"
   ]
  },
  {
   "cell_type": "code",
   "execution_count": 9,
   "metadata": {},
   "outputs": [
    {
     "data": {
      "text/plain": [
       "384"
      ]
     },
     "execution_count": 9,
     "metadata": {},
     "output_type": "execute_result"
    }
   ],
   "source": [
    "# counting how many groups where the person that won raised the most money\n",
    "winners = results_df.groupby('st_dist')[['Outcome', 'max_raised']].apply(lambda x: (x['Outcome'] == 'W') & (x['max_raised'] == 1)).sum()\n",
    "winners"
   ]
  },
  {
   "cell_type": "code",
   "execution_count": 10,
   "metadata": {},
   "outputs": [
    {
     "data": {
      "text/plain": [
       "88.27586206896552"
      ]
     },
     "execution_count": 10,
     "metadata": {},
     "output_type": "execute_result"
    }
   ],
   "source": [
    "# percentage of times where the most money raised wins the race\n",
    "(winners / total_seats) * 100"
   ]
  },
  {
   "cell_type": "markdown",
   "metadata": {},
   "source": [
    "88.27% of the time the candidate who raised the most money won the race"
   ]
  },
  {
   "cell_type": "markdown",
   "metadata": {},
   "source": [
    "adding spent to this notebook to make the graph\n"
   ]
  },
  {
   "cell_type": "code",
   "execution_count": 11,
   "metadata": {},
   "outputs": [],
   "source": [
    "# function to determine who spent the most in the group \n",
    "def max_spent_dist(df, dist, spent):\n",
    "    highest_spent = df.groupby(dist)[spent].transform('max')\n",
    "    return (df[spent] == highest_spent).astype(int)\n",
    "\n",
    "# adding column to flag the row that spent the most per group\n",
    "results_df['max_spent'] = max_cont_dist(results_df, 'st_dist', 'Spent')"
   ]
  },
  {
   "cell_type": "code",
   "execution_count": 12,
   "metadata": {},
   "outputs": [
    {
     "data": {
      "text/plain": [
       "384"
      ]
     },
     "execution_count": 12,
     "metadata": {},
     "output_type": "execute_result"
    }
   ],
   "source": [
    "# counting how many groups where the person that won spent the most money\n",
    "winnersSpent = results_df.groupby('st_dist')[['Outcome', 'max_spent']].apply(lambda x: (x['Outcome'] == 'W') & (x['max_spent'] == 1)).sum()\n",
    "winners"
   ]
  },
  {
   "cell_type": "code",
   "execution_count": null,
   "metadata": {},
   "outputs": [
    {
     "data": {
      "text/plain": [
       "87.816091954023"
      ]
     },
     "execution_count": 13,
     "metadata": {},
     "output_type": "execute_result"
    }
   ],
   "source": [
    "# percentage of times where the most money spent wins the race\n",
    "(winnersSpent / total_seats) * 100"
   ]
  },
  {
   "cell_type": "markdown",
   "metadata": {},
   "source": [
    "87.82% of the time the candidate who raised the most money won the race"
   ]
  },
  {
   "cell_type": "code",
   "execution_count": 17,
   "metadata": {},
   "outputs": [
    {
     "data": {
      "image/png": "[encoded data removed]",
      "text/plain": [
       "<Figure size 1000x600 with 1 Axes>"
      ]
     },
     "metadata": {},
     "output_type": "display_data"
    }
   ],
   "source": [
    "comparison_won_lost_df = pd.DataFrame({\n",
    "    'Category': ['Raised the Most and Won', 'Raised the Most and Lost', 'Spent the Most and Won', 'Spent the Most and Lost'],\n",
    "    'Count': [\n",
    "        results_df[(results_df['max_raised'] == 1) & (results_df['Outcome'] == 'W')].shape[0],\n",
    "        results_df[(results_df['max_raised'] == 1) & (results_df['Outcome'] == 'L')].shape[0],\n",
    "        results_df[(results_df['max_spent'] == 1) & (results_df['Outcome'] == 'W')].shape[0],\n",
    "        results_df[(results_df['max_spent'] == 1) & (results_df['Outcome'] == 'L')].shape[0]\n",
    "    ]\n",
    "})\n",
    "\n",
    "\n",
    "plt.figure(figsize=(10, 6))\n",
    "sns.barplot(x='Category', y='Count', data=comparison_won_lost_df)\n",
    "plt.title('Count of Candidates Who Raised/Spent the Most and Won vs Lost')\n",
    "plt.ylabel('Seat Count')\n",
    "plt.xlabel('')\n",
    "plt.savefig('../images/RasisedSpentWins' , dpi= 150)\n",
    "plt.show()"
   ]
  }
 ],
 "metadata": {
  "kernelspec": {
   "display_name": "base",
   "language": "python",
   "name": "python3"
  },
  "language_info": {
   "codemirror_mode": {
    "name": "ipython",
    "version": 3
   },
   "file_extension": ".py",
   "mimetype": "text/x-python",
   "name": "python",
   "nbconvert_exporter": "python",
   "pygments_lexer": "ipython3",
   "version": "3.12.4"
  }
 },
 "nbformat": 4,
 "nbformat_minor": 2
}
