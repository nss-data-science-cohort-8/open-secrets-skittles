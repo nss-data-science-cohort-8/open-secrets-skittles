{
 "cells": [
  {
   "cell_type": "markdown",
   "id": "79af5dbe-5c18-431a-bda7-2451ee246e65",
   "metadata": {},
   "source": [
    "## **Does the difference between either money raised or money spent seem to influence the likelihood of a candidate winning a race?** ##"
   ]
  },
  {
   "cell_type": "code",
   "execution_count": 3,
   "id": "2a49215c-a0e1-4e75-9ff8-e4dee4ac3add",
   "metadata": {},
   "outputs": [],
   "source": [
    "import pandas as pd\n",
    "import plotly.express as px\n",
    "import matplotlib.pyplot as plt\n",
    "import matplotlib.ticker as ticker\n",
    "import numpy as np\n",
    "import statsmodels.api as sm\n",
    "import statsmodels.formula.api as smf\n",
    "import seaborn as sns\n",
    "import os\n"
   ]
  },
  {
   "cell_type": "markdown",
   "id": "0a09433a-268c-43da-b15f-0a7048fa2880",
   "metadata": {},
   "source": [
    "## Cleaning DataFrame ##"
   ]
  },
  {
   "cell_type": "code",
   "execution_count": 25,
   "id": "0e3ec39e-345d-4c80-a99e-a62a7170e895",
   "metadata": {},
   "outputs": [],
   "source": [
    "pd.options.mode.copy_on_write = True\n",
    "pd.set_option('display.float_format', lambda x: '%.2f' % x)"
   ]
  },
  {
   "cell_type": "code",
   "execution_count": 27,
   "id": "d365be4a-1d8b-4506-b6d0-8942308fe799",
   "metadata": {},
   "outputs": [],
   "source": [
    "States_df = pd.read_csv('../data/States_df.csv')"
   ]
  },
  {
   "cell_type": "code",
   "execution_count": 29,
   "id": "5a1dc093-ccc9-442d-929a-e8baef4c9835",
   "metadata": {},
   "outputs": [],
   "source": [
    "States_df['Party'] = States_df['FirstLastP'].str.split(' ').str[-1].str.strip('()')"
   ]
  },
  {
   "cell_type": "code",
   "execution_count": 8,
   "id": "d21b4897-2fef-4e60-8a6e-dc34fa5e93b5",
   "metadata": {},
   "outputs": [],
   "source": [
    "States_df = (\n",
    "    States_df\n",
    "    .rename(columns={'Incumbent':'x', 'Rcpts': 'Raised', 'Result': 'Outcome', 'CRPICO': 'Incumbent'})\n",
    ")"
   ]
  },
  {
   "cell_type": "code",
   "execution_count": 9,
   "id": "262a5581-2ca4-4e35-b265-9bc17ddf05f4",
   "metadata": {},
   "outputs": [],
   "source": [
    "data = States_df[['FirstLastP', 'State', 'District', 'Raised', 'Spent', 'Outcome', 'Party', 'Incumbent']]"
   ]
  },
  {
   "cell_type": "code",
   "execution_count": 10,
   "id": "68359488-664e-4877-8b70-f71501acf445",
   "metadata": {},
   "outputs": [],
   "source": [
    "data['Outcome'] = data['Outcome'].replace(' ', 'L')"
   ]
  },
  {
   "cell_type": "code",
   "execution_count": 11,
   "id": "fe90ef72-cfcb-4f33-ab9a-410f17b179eb",
   "metadata": {},
   "outputs": [],
   "source": [
    "data['Winner'] = (data['Outcome'] == 'W') | (data['Outcome'] == 'w')"
   ]
  },
  {
   "cell_type": "code",
   "execution_count": 12,
   "id": "b81686c1-4a50-46be-96d5-62c4f65bb414",
   "metadata": {},
   "outputs": [],
   "source": [
    "data['Winner'] = data['Winner'].astype(int)"
   ]
  },
  {
   "cell_type": "code",
   "execution_count": 13,
   "id": "4b4a69dc-f0d7-48b0-85fb-99ad0296422a",
   "metadata": {},
   "outputs": [],
   "source": [
    "data['Difference'] = data['Raised'] - data['Spent']"
   ]
  },
  {
   "cell_type": "code",
   "execution_count": 14,
   "id": "eb518b2b-76c9-49ba-a04f-acc52f4d8f36",
   "metadata": {},
   "outputs": [],
   "source": [
    "df = data[['State', 'District', 'FirstLastP', 'Party', 'Raised', 'Spent', 'Difference', 'Outcome', 'Winner', 'Incumbent']]"
   ]
  },
  {
   "cell_type": "code",
   "execution_count": 15,
   "id": "b971b73e-f652-408d-88df-60116a3979e4",
   "metadata": {},
   "outputs": [],
   "source": [
    "df = df[df['Difference'] != 0.00]"
   ]
  },
  {
   "cell_type": "markdown",
   "id": "74f7f02e-34c9-4b76-be77-8eb201b4471d",
   "metadata": {},
   "source": [
    "## Descriptive Statistics ##"
   ]
  },
  {
   "cell_type": "code",
   "execution_count": 17,
   "id": "cdfddef6-acef-486f-8e87-e6418a4e75bc",
   "metadata": {},
   "outputs": [],
   "source": [
    "#df.to_csv('../data/States_clean_df.csv', index=False)"
   ]
  },
  {
   "cell_type": "code",
   "execution_count": 33,
   "id": "b5356011-252f-40ef-9759-6940587ef51b",
   "metadata": {},
   "outputs": [],
   "source": [
    "incomb_df = df.groupby(['State', 'Incumbent', 'Party', 'Winner']).agg({'Raised':'mean', 'Spent':'mean', 'Difference':'mean'}).reset_index()"
   ]
  },
  {
   "cell_type": "code",
   "execution_count": 35,
   "id": "f54422cc-4bd5-425f-8c08-50d967c69f50",
   "metadata": {},
   "outputs": [
    {
     "data": {
      "text/html": [
       "<div>\n",
       "<style scoped>\n",
       "    .dataframe tbody tr th:only-of-type {\n",
       "        vertical-align: middle;\n",
       "    }\n",
       "\n",
       "    .dataframe tbody tr th {\n",
       "        vertical-align: top;\n",
       "    }\n",
       "\n",
       "    .dataframe thead th {\n",
       "        text-align: right;\n",
       "    }\n",
       "</style>\n",
       "<table border=\"1\" class=\"dataframe\">\n",
       "  <thead>\n",
       "    <tr style=\"text-align: right;\">\n",
       "      <th></th>\n",
       "      <th>State</th>\n",
       "      <th>Incumbent</th>\n",
       "      <th>Party</th>\n",
       "      <th>Winner</th>\n",
       "      <th>Raised</th>\n",
       "      <th>Spent</th>\n",
       "      <th>Difference</th>\n",
       "    </tr>\n",
       "  </thead>\n",
       "  <tbody>\n",
       "    <tr>\n",
       "      <th>0</th>\n",
       "      <td>Alabama</td>\n",
       "      <td>C</td>\n",
       "      <td>D</td>\n",
       "      <td>0</td>\n",
       "      <td>50273.20</td>\n",
       "      <td>40971.09</td>\n",
       "      <td>9302.11</td>\n",
       "    </tr>\n",
       "    <tr>\n",
       "      <th>1</th>\n",
       "      <td>Alabama</td>\n",
       "      <td>I</td>\n",
       "      <td>D</td>\n",
       "      <td>1</td>\n",
       "      <td>2168165.01</td>\n",
       "      <td>1495957.14</td>\n",
       "      <td>672207.87</td>\n",
       "    </tr>\n",
       "    <tr>\n",
       "      <th>2</th>\n",
       "      <td>Alabama</td>\n",
       "      <td>I</td>\n",
       "      <td>R</td>\n",
       "      <td>1</td>\n",
       "      <td>1002692.78</td>\n",
       "      <td>915375.79</td>\n",
       "      <td>87316.99</td>\n",
       "    </tr>\n",
       "    <tr>\n",
       "      <th>3</th>\n",
       "      <td>Alabama</td>\n",
       "      <td>O</td>\n",
       "      <td>D</td>\n",
       "      <td>0</td>\n",
       "      <td>68072.32</td>\n",
       "      <td>67480.65</td>\n",
       "      <td>591.66</td>\n",
       "    </tr>\n",
       "    <tr>\n",
       "      <th>4</th>\n",
       "      <td>Alabama</td>\n",
       "      <td>O</td>\n",
       "      <td>R</td>\n",
       "      <td>1</td>\n",
       "      <td>1311064.12</td>\n",
       "      <td>1264358.30</td>\n",
       "      <td>46705.82</td>\n",
       "    </tr>\n",
       "    <tr>\n",
       "      <th>...</th>\n",
       "      <td>...</td>\n",
       "      <td>...</td>\n",
       "      <td>...</td>\n",
       "      <td>...</td>\n",
       "      <td>...</td>\n",
       "      <td>...</td>\n",
       "      <td>...</td>\n",
       "    </tr>\n",
       "    <tr>\n",
       "      <th>259</th>\n",
       "      <td>Wisconsin</td>\n",
       "      <td>I</td>\n",
       "      <td>R</td>\n",
       "      <td>1</td>\n",
       "      <td>2789242.36</td>\n",
       "      <td>2561225.25</td>\n",
       "      <td>228017.12</td>\n",
       "    </tr>\n",
       "    <tr>\n",
       "      <th>260</th>\n",
       "      <td>Wisconsin</td>\n",
       "      <td>O</td>\n",
       "      <td>D</td>\n",
       "      <td>0</td>\n",
       "      <td>370392.34</td>\n",
       "      <td>371799.41</td>\n",
       "      <td>-1407.07</td>\n",
       "    </tr>\n",
       "    <tr>\n",
       "      <th>261</th>\n",
       "      <td>Wisconsin</td>\n",
       "      <td>O</td>\n",
       "      <td>R</td>\n",
       "      <td>1</td>\n",
       "      <td>1155720.78</td>\n",
       "      <td>968405.59</td>\n",
       "      <td>187315.19</td>\n",
       "    </tr>\n",
       "    <tr>\n",
       "      <th>262</th>\n",
       "      <td>Wyoming</td>\n",
       "      <td>C</td>\n",
       "      <td>D</td>\n",
       "      <td>0</td>\n",
       "      <td>134597.32</td>\n",
       "      <td>132234.75</td>\n",
       "      <td>2362.57</td>\n",
       "    </tr>\n",
       "    <tr>\n",
       "      <th>263</th>\n",
       "      <td>Wyoming</td>\n",
       "      <td>I</td>\n",
       "      <td>R</td>\n",
       "      <td>1</td>\n",
       "      <td>3003883.34</td>\n",
       "      <td>3060166.78</td>\n",
       "      <td>-56283.44</td>\n",
       "    </tr>\n",
       "  </tbody>\n",
       "</table>\n",
       "<p>264 rows × 7 columns</p>\n",
       "</div>"
      ],
      "text/plain": [
       "         State Incumbent Party  Winner     Raised      Spent  Difference\n",
       "0      Alabama         C     D       0   50273.20   40971.09     9302.11\n",
       "1      Alabama         I     D       1 2168165.01 1495957.14   672207.87\n",
       "2      Alabama         I     R       1 1002692.78  915375.79    87316.99\n",
       "3      Alabama         O     D       0   68072.32   67480.65      591.66\n",
       "4      Alabama         O     R       1 1311064.12 1264358.30    46705.82\n",
       "..         ...       ...   ...     ...        ...        ...         ...\n",
       "259  Wisconsin         I     R       1 2789242.36 2561225.25   228017.12\n",
       "260  Wisconsin         O     D       0  370392.34  371799.41    -1407.07\n",
       "261  Wisconsin         O     R       1 1155720.78  968405.59   187315.19\n",
       "262    Wyoming         C     D       0  134597.32  132234.75     2362.57\n",
       "263    Wyoming         I     R       1 3003883.34 3060166.78   -56283.44\n",
       "\n",
       "[264 rows x 7 columns]"
      ]
     },
     "execution_count": 35,
     "metadata": {},
     "output_type": "execute_result"
    }
   ],
   "source": [
    "incomb_df"
   ]
  },
  {
   "cell_type": "code",
   "execution_count": null,
   "id": "f0af9a0e-6015-43e2-a305-75245132cf03",
   "metadata": {},
   "outputs": [],
   "source": []
  },
  {
   "cell_type": "code",
   "execution_count": 23,
   "id": "d4179100-35ae-42bd-ba4c-8b032699a661",
   "metadata": {},
   "outputs": [
    {
     "data": {
      "image/png": "[encoded data removed]",
      "text/plain": [
       "<Figure size 640x480 with 1 Axes>"
      ]
     },
     "metadata": {},
     "output_type": "display_data"
    }
   ],
   "source": [
    "pd.crosstab(\n",
    "    df['Party'],\n",
    "    df['Winner']\n",
    ").plot(kind=\"barh\");"
   ]
  },
  {
   "cell_type": "code",
   "execution_count": 37,
   "id": "f676c720-4656-4451-927a-3bcae4008b40",
   "metadata": {},
   "outputs": [
    {
     "name": "stderr",
     "output_type": "stream",
     "text": [
      "C:\\ProgramData\\anaconda3\\Lib\\site-packages\\seaborn\\axisgrid.py:718: UserWarning: Using the boxplot function without specifying `order` is likely to produce an incorrect plot.\n",
      "  warnings.warn(warning)\n"
     ]
    },
    {
     "data": {
      "image/png": "[encoded data removed]",
      "text/plain": [
       "<Figure size 1500x300 with 5 Axes>"
      ]
     },
     "metadata": {},
     "output_type": "display_data"
    }
   ],
   "source": [
    "g = sns.FacetGrid(df, col='Party')\n",
    "g.map(sns.boxplot, 'Winner', 'Difference')\n",
    "plt.show()"
   ]
  },
  {
   "cell_type": "code",
   "execution_count": 39,
   "id": "e6338b7f-1b7d-4072-8a25-13dcd0103dbd",
   "metadata": {},
   "outputs": [
    {
     "name": "stderr",
     "output_type": "stream",
     "text": [
      "C:\\ProgramData\\anaconda3\\Lib\\site-packages\\seaborn\\axisgrid.py:718: UserWarning: Using the boxplot function without specifying `order` is likely to produce an incorrect plot.\n",
      "  warnings.warn(warning)\n"
     ]
    },
    {
     "data": {
      "image/png": "[encoded data removed]",
      "text/plain": [
       "<Figure size 1500x300 with 5 Axes>"
      ]
     },
     "metadata": {},
     "output_type": "display_data"
    }
   ],
   "source": [
    "g = sns.FacetGrid(df, col='Party')\n",
    "g.map(sns.boxplot, 'Winner', 'Raised')\n",
    "plt.show()"
   ]
  },
  {
   "cell_type": "code",
   "execution_count": 40,
   "id": "4b5445b4-7cca-4d26-90c4-b4bec075289c",
   "metadata": {},
   "outputs": [
    {
     "name": "stderr",
     "output_type": "stream",
     "text": [
      "C:\\ProgramData\\anaconda3\\Lib\\site-packages\\seaborn\\axisgrid.py:718: UserWarning: Using the boxplot function without specifying `order` is likely to produce an incorrect plot.\n",
      "  warnings.warn(warning)\n"
     ]
    },
    {
     "data": {
      "image/png": "[encoded data removed]",
      "text/plain": [
       "<Figure size 1500x300 with 5 Axes>"
      ]
     },
     "metadata": {},
     "output_type": "display_data"
    }
   ],
   "source": [
    "g = sns.FacetGrid(df, col='Party')\n",
    "g.map(sns.boxplot, 'Winner', 'Spent')\n",
    "plt.show()"
   ]
  },
  {
   "cell_type": "code",
   "execution_count": null,
   "id": "e207ce97-ff3b-4967-9909-53e2f30318ed",
   "metadata": {},
   "outputs": [],
   "source": [
    "df_logreg = smf.logit(\"Winner ~ Spent\", data = df).fit()"
   ]
  },
  {
   "cell_type": "code",
   "execution_count": null,
   "id": "414ca940-4c12-4754-ba17-06e821fa7e48",
   "metadata": {},
   "outputs": [],
   "source": [
    "df_logreg.params"
   ]
  },
  {
   "cell_type": "code",
   "execution_count": null,
   "id": "685dc46f-ba4d-4be3-b7bb-ec9d2b333eda",
   "metadata": {},
   "outputs": [],
   "source": []
  }
 ],
 "metadata": {
  "kernelspec": {
   "display_name": "Python 3 (ipykernel)",
   "language": "python",
   "name": "python3"
  },
  "language_info": {
   "codemirror_mode": {
    "name": "ipython",
    "version": 3
   },
   "file_extension": ".py",
   "mimetype": "text/x-python",
   "name": "python",
   "nbconvert_exporter": "python",
   "pygments_lexer": "ipython3",
   "version": "3.12.4"
  }
 },
 "nbformat": 4,
 "nbformat_minor": 5
}
