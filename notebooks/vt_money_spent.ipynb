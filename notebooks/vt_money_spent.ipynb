{
 "cells": [
  {
   "cell_type": "code",
   "execution_count": 7,
   "metadata": {},
   "outputs": [],
   "source": [
    "import pandas as pd\n",
    "import matplotlib.pyplot as plt "
   ]
  },
  {
   "cell_type": "code",
   "execution_count": 8,
   "metadata": {},
   "outputs": [],
   "source": [
    "results_df = pd.read_csv('../data/States_df.csv')"
   ]
  },
  {
   "cell_type": "code",
   "execution_count": 9,
   "metadata": {},
   "outputs": [
    {
     "data": {
      "text/plain": [
       "435"
      ]
     },
     "execution_count": 9,
     "metadata": {},
     "output_type": "execute_result"
    }
   ],
   "source": [
    "# how many unique districts and states there are \n",
    "# making new column in df to combine district and state\n",
    "results_df['st_dist'] = results_df['State'] + results_df['District'].astype(str)\n",
    "total_seats = results_df['st_dist'].nunique()\n",
    "total_seats"
   ]
  },
  {
   "cell_type": "code",
   "execution_count": 10,
   "metadata": {},
   "outputs": [],
   "source": [
    "# function to determine who spent the most in the group \n",
    "def max_cont_dist(df, dist, spent):\n",
    "    highest_spent = df.groupby(dist)[spent].transform('max')\n",
    "    return (df[spent] == highest_spent).astype(int)\n",
    "\n",
    "# adding column to flag the row that spent the most per group\n",
    "results_df['max_spent'] = max_cont_dist(results_df, 'st_dist', 'Spent')"
   ]
  },
  {
   "cell_type": "code",
   "execution_count": 11,
   "metadata": {},
   "outputs": [
    {
     "data": {
      "text/plain": [
       "381"
      ]
     },
     "execution_count": 11,
     "metadata": {},
     "output_type": "execute_result"
    }
   ],
   "source": [
    "# counting how many groups where the person that won spent the most money\n",
    "winners = results_df.groupby('st_dist')[['Result', 'max_spent']].apply(lambda x: (x['Result'] == 'W') & (x['max_spent'] == 1)).sum()\n",
    "winners"
   ]
  },
  {
   "cell_type": "code",
   "execution_count": 12,
   "metadata": {},
   "outputs": [
    {
     "data": {
      "text/plain": [
       "87.58620689655172"
      ]
     },
     "execution_count": 12,
     "metadata": {},
     "output_type": "execute_result"
    }
   ],
   "source": [
    "# percentage of times where the most money spent wins the race\n",
    "(winners / total_seats) * 100"
   ]
  },
  {
   "cell_type": "markdown",
   "metadata": {},
   "source": [
    "87.5% of the time the candidate who spent the most money won the race"
   ]
  }
 ],
 "metadata": {
  "kernelspec": {
   "display_name": "base",
   "language": "python",
   "name": "python3"
  },
  "language_info": {
   "codemirror_mode": {
    "name": "ipython",
    "version": 3
   },
   "file_extension": ".py",
   "mimetype": "text/x-python",
   "name": "python",
   "nbconvert_exporter": "python",
   "pygments_lexer": "ipython3",
   "version": "3.12.4"
  }
 },
 "nbformat": 4,
 "nbformat_minor": 2
}
