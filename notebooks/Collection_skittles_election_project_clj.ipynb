{
 "cells": [
  {
   "cell_type": "code",
   "execution_count": 25,
   "id": "ab696575-c89a-417c-9fd1-a53413c062aa",
   "metadata": {},
   "outputs": [],
   "source": [
    "import os\n",
    "import plotly.express as px\n",
    "import matplotlib.pyplot as plt\n",
    "import pandas as pd"
   ]
  },
  {
   "cell_type": "code",
   "execution_count": 29,
   "id": "32e5e52c-f9ec-4bde-8636-b2db5677c000",
   "metadata": {},
   "outputs": [
    {
     "name": "stdout",
     "output_type": "stream",
     "text": [
      "Current working directory is C:\\Users\\cavin\\Documents\\NSS_Projects\n"
     ]
    }
   ],
   "source": [
    "os.chdir('..')\n",
    "print(f'Current working directory is {os.getcwd()}')"
   ]
  },
  {
   "cell_type": "code",
   "execution_count": 3,
   "id": "05c26457-3596-499c-b5e9-96baffcd85c3",
   "metadata": {},
   "outputs": [],
   "source": [
    "from scripts.Skittles_collection import state_code_df, get_tn_districts, get_all_districts"
   ]
  },
  {
   "cell_type": "code",
   "execution_count": 4,
   "id": "b079cef1-9377-4c79-9984-5c0818d9e16f",
   "metadata": {},
   "outputs": [],
   "source": [
    "#TN07_df.to_csv('../data/TN07_df.csv', index = False)"
   ]
  },
  {
   "cell_type": "code",
   "execution_count": 5,
   "id": "1eeceb2f-9669-4e7b-ab30-02ad7371332c",
   "metadata": {},
   "outputs": [],
   "source": [
    "#TN_df.to_csv('../data/TN_df.csv', index = False)"
   ]
  },
  {
   "cell_type": "code",
   "execution_count": 6,
   "id": "4b7469c6-01f6-414c-90f4-c38a70d6f8df",
   "metadata": {},
   "outputs": [],
   "source": [
    "#States_df.to_csv('../data/States_df.csv', index = False)"
   ]
  },
  {
   "cell_type": "code",
   "execution_count": 7,
   "id": "62747285-c8ff-4791-8f2e-1d988e5676ba",
   "metadata": {},
   "outputs": [],
   "source": [
    "state_code_df();"
   ]
  },
  {
   "cell_type": "code",
   "execution_count": 8,
   "id": "42b2b6be-8412-4dc3-aba5-1633e4ec5974",
   "metadata": {},
   "outputs": [],
   "source": [
    "get_tn_districts();"
   ]
  },
  {
   "cell_type": "code",
   "execution_count": 9,
   "id": "2ec239f0-0b7b-4fde-8bb8-eb670a0ee6ac",
   "metadata": {},
   "outputs": [],
   "source": [
    "get_all_districts();"
   ]
  },
  {
   "cell_type": "code",
   "execution_count": null,
   "id": "cf7c41a3-0563-469c-8373-6fb8bb3fe9c7",
   "metadata": {},
   "outputs": [],
   "source": []
  }
 ],
 "metadata": {
  "kernelspec": {
   "display_name": "Python 3 (ipykernel)",
   "language": "python",
   "name": "python3"
  },
  "language_info": {
   "codemirror_mode": {
    "name": "ipython",
    "version": 3
   },
   "file_extension": ".py",
   "mimetype": "text/x-python",
   "name": "python",
   "nbconvert_exporter": "python",
   "pygments_lexer": "ipython3",
   "version": "3.12.4"
  }
 },
 "nbformat": 4,
 "nbformat_minor": 5
}
