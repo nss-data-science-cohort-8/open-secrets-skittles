{
 "cells": [
  {
   "cell_type": "markdown",
   "id": "984efa81-3c25-4c5d-8d5c-43fbfde0da5f",
   "metadata": {},
   "source": [
    "d. How often does the incumbent candidate win a race? "
   ]
  },
  {
   "cell_type": "code",
   "execution_count": 2,
   "id": "9caf0a3b-e7c0-4a8b-8672-aaa1530a1dc7",
   "metadata": {},
   "outputs": [],
   "source": [
    "import pandas as pd"
   ]
  },
  {
   "cell_type": "code",
   "execution_count": 3,
   "id": "c343ec41-e2bc-4ae7-a49c-c74381be37c0",
   "metadata": {},
   "outputs": [],
   "source": [
    "state_df = pd.read_csv(r'C:\\Users\\billy\\Documents\\NSS_projects\\open-secrets-skittles\\Data\\states_districts_df.csv')"
   ]
  },
  {
   "cell_type": "code",
   "execution_count": 29,
   "id": "585ca04b-cd55-4d93-8e7c-83f355e3a3d4",
   "metadata": {},
   "outputs": [],
   "source": [
    "CRPICO_Result = (\n",
    "    state_df\n",
    "    .groupby('CRPICO')['Result']\n",
    "    .value_counts(normalize=True)\n",
    "    .reset_index()\n",
    ")\n",
    "# I needed to compare the columns comprising the Incumbent, Challenger, and Open variables and result of the race.\n",
    "# I reset it to create a pandas dataframe. "
   ]
  },
  {
   "cell_type": "code",
   "execution_count": 31,
   "id": "0ac7bdaa-9f91-4616-8c37-ae836b4a3b31",
   "metadata": {},
   "outputs": [
    {
     "data": {
      "text/html": [
       "<div>\n",
       "<style scoped>\n",
       "    .dataframe tbody tr th:only-of-type {\n",
       "        vertical-align: middle;\n",
       "    }\n",
       "\n",
       "    .dataframe tbody tr th {\n",
       "        vertical-align: top;\n",
       "    }\n",
       "\n",
       "    .dataframe thead th {\n",
       "        text-align: right;\n",
       "    }\n",
       "</style>\n",
       "<table border=\"1\" class=\"dataframe\">\n",
       "  <thead>\n",
       "    <tr style=\"text-align: right;\">\n",
       "      <th></th>\n",
       "      <th>CRPICO</th>\n",
       "      <th>Result</th>\n",
       "      <th>proportion</th>\n",
       "    </tr>\n",
       "  </thead>\n",
       "  <tbody>\n",
       "    <tr>\n",
       "      <th>0</th>\n",
       "      <td>C</td>\n",
       "      <td>L</td>\n",
       "      <td>0.533058</td>\n",
       "    </tr>\n",
       "    <tr>\n",
       "      <th>1</th>\n",
       "      <td>C</td>\n",
       "      <td></td>\n",
       "      <td>0.450413</td>\n",
       "    </tr>\n",
       "    <tr>\n",
       "      <th>2</th>\n",
       "      <td>C</td>\n",
       "      <td>W</td>\n",
       "      <td>0.016529</td>\n",
       "    </tr>\n",
       "    <tr>\n",
       "      <th>3</th>\n",
       "      <td>I</td>\n",
       "      <td>W</td>\n",
       "      <td>0.961140</td>\n",
       "    </tr>\n",
       "    <tr>\n",
       "      <th>4</th>\n",
       "      <td>I</td>\n",
       "      <td>L</td>\n",
       "      <td>0.031088</td>\n",
       "    </tr>\n",
       "    <tr>\n",
       "      <th>5</th>\n",
       "      <td>I</td>\n",
       "      <td>w</td>\n",
       "      <td>0.005181</td>\n",
       "    </tr>\n",
       "    <tr>\n",
       "      <th>6</th>\n",
       "      <td>I</td>\n",
       "      <td></td>\n",
       "      <td>0.002591</td>\n",
       "    </tr>\n",
       "    <tr>\n",
       "      <th>7</th>\n",
       "      <td>O</td>\n",
       "      <td>L</td>\n",
       "      <td>0.394737</td>\n",
       "    </tr>\n",
       "    <tr>\n",
       "      <th>8</th>\n",
       "      <td>O</td>\n",
       "      <td>W</td>\n",
       "      <td>0.309211</td>\n",
       "    </tr>\n",
       "    <tr>\n",
       "      <th>9</th>\n",
       "      <td>O</td>\n",
       "      <td></td>\n",
       "      <td>0.282895</td>\n",
       "    </tr>\n",
       "    <tr>\n",
       "      <th>10</th>\n",
       "      <td>O</td>\n",
       "      <td>l</td>\n",
       "      <td>0.006579</td>\n",
       "    </tr>\n",
       "    <tr>\n",
       "      <th>11</th>\n",
       "      <td>O</td>\n",
       "      <td>w</td>\n",
       "      <td>0.006579</td>\n",
       "    </tr>\n",
       "  </tbody>\n",
       "</table>\n",
       "</div>"
      ],
      "text/plain": [
       "   CRPICO Result  proportion\n",
       "0       C      L    0.533058\n",
       "1       C           0.450413\n",
       "2       C      W    0.016529\n",
       "3       I      W    0.961140\n",
       "4       I      L    0.031088\n",
       "5       I      w    0.005181\n",
       "6       I           0.002591\n",
       "7       O      L    0.394737\n",
       "8       O      W    0.309211\n",
       "9       O           0.282895\n",
       "10      O      l    0.006579\n",
       "11      O      w    0.006579"
      ]
     },
     "execution_count": 31,
     "metadata": {},
     "output_type": "execute_result"
    }
   ],
   "source": [
    "CRPICO_Result"
   ]
  },
  {
   "cell_type": "code",
   "execution_count": 77,
   "id": "19263431-83b2-4920-9d12-39b44927770e",
   "metadata": {},
   "outputs": [],
   "source": [
    "Incumbent_proportions = (\n",
    "    data_subset[data_subset['CRPICO'] == 'I']\n",
    "    .sort_values(by='proportion', ascending=False)\n",
    "    .replace({'w':'W'})\n",
    ")\n",
    "# I subsetted the dataframe by I variable which represents the Incumbent and sorted by proportions.\n",
    "# I renamed the lowercase w variables with uppercase in order to sum those value, which I did in the next cell."
   ]
  },
  {
   "cell_type": "code",
   "execution_count": 79,
   "id": "44c0bd4b-5184-4747-911e-b5d5a7cf7037",
   "metadata": {},
   "outputs": [
    {
     "data": {
      "text/html": [
       "<div>\n",
       "<style scoped>\n",
       "    .dataframe tbody tr th:only-of-type {\n",
       "        vertical-align: middle;\n",
       "    }\n",
       "\n",
       "    .dataframe tbody tr th {\n",
       "        vertical-align: top;\n",
       "    }\n",
       "\n",
       "    .dataframe thead th {\n",
       "        text-align: right;\n",
       "    }\n",
       "</style>\n",
       "<table border=\"1\" class=\"dataframe\">\n",
       "  <thead>\n",
       "    <tr style=\"text-align: right;\">\n",
       "      <th></th>\n",
       "      <th>CRPICO</th>\n",
       "      <th>Result</th>\n",
       "      <th>proportion</th>\n",
       "    </tr>\n",
       "  </thead>\n",
       "  <tbody>\n",
       "    <tr>\n",
       "      <th>3</th>\n",
       "      <td>I</td>\n",
       "      <td>W</td>\n",
       "      <td>0.961140</td>\n",
       "    </tr>\n",
       "    <tr>\n",
       "      <th>4</th>\n",
       "      <td>I</td>\n",
       "      <td>L</td>\n",
       "      <td>0.031088</td>\n",
       "    </tr>\n",
       "    <tr>\n",
       "      <th>5</th>\n",
       "      <td>I</td>\n",
       "      <td>W</td>\n",
       "      <td>0.005181</td>\n",
       "    </tr>\n",
       "    <tr>\n",
       "      <th>6</th>\n",
       "      <td>I</td>\n",
       "      <td></td>\n",
       "      <td>0.002591</td>\n",
       "    </tr>\n",
       "  </tbody>\n",
       "</table>\n",
       "</div>"
      ],
      "text/plain": [
       "  CRPICO Result  proportion\n",
       "3      I      W    0.961140\n",
       "4      I      L    0.031088\n",
       "5      I      W    0.005181\n",
       "6      I           0.002591"
      ]
     },
     "execution_count": 79,
     "metadata": {},
     "output_type": "execute_result"
    }
   ],
   "source": [
    "Incumbent_proportions"
   ]
  },
  {
   "cell_type": "code",
   "execution_count": 71,
   "id": "ad82f6ed-d315-45da-a3d6-fbab6f7383af",
   "metadata": {},
   "outputs": [
    {
     "data": {
      "text/plain": [
       "0.966321243523316"
      ]
     },
     "execution_count": 71,
     "metadata": {},
     "output_type": "execute_result"
    }
   ],
   "source": [
    "Incumbent_proportion[Incumbent_proportion['Result'] == 'W']['proportion'].sum()\n",
    "# I summed the W variables."
   ]
  },
  {
   "cell_type": "markdown",
   "id": "bc143ca2-13b9-425d-9438-dfd746132d1f",
   "metadata": {},
   "source": [
    "The incumbent won a race 96% of the time in the 2020 congressional elections."
   ]
  }
 ],
 "metadata": {
  "kernelspec": {
   "display_name": "Python 3 (ipykernel)",
   "language": "python",
   "name": "python3"
  },
  "language_info": {
   "codemirror_mode": {
    "name": "ipython",
    "version": 3
   },
   "file_extension": ".py",
   "mimetype": "text/x-python",
   "name": "python",
   "nbconvert_exporter": "python",
   "pygments_lexer": "ipython3",
   "version": "3.12.4"
  }
 },
 "nbformat": 4,
 "nbformat_minor": 5
}
