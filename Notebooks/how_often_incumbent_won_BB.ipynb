{
 "cells": [
  {
   "cell_type": "code",
   "execution_count": null,
   "id": "f3bde3d6-eb2f-4553-a152-08f1803a56b2",
   "metadata": {},
   "outputs": [],
   "source": [
    "import pandas as pd"
   ]
  },
  {
   "cell_type": "code",
   "execution_count": null,
   "id": "76a5d95b-43b2-4d60-af8a-096a398ffcc6",
   "metadata": {},
   "outputs": [],
   "source": [
    "state_df = pd.read_csv(r'C:\\Users\\billy\\Documents\\NSS_projects\\open-secrets-skittles\\Data\\states_districts_df.csv')"
   ]
  },
  {
   "cell_type": "code",
   "execution_count": null,
   "id": "e702461f-1a49-4538-af73-1023e003c8ff",
   "metadata": {},
   "outputs": [],
   "source": [
    "CRPICO_Result = (\n",
    "    state_df\n",
    "    .groupby('CRPICO')['Result']\n",
    "    .value_counts(normalize=True)\n",
    "    .reset_index()\n",
    ")\n",
    "# I needed to compare the columns comprising the Incumbent, Challenger, and Open variables and result of the race.\n",
    "# I reset it to create a pandas dataframe. "
   ]
  },
  {
   "cell_type": "code",
   "execution_count": null,
   "id": "3f1e83e6-4aab-4488-923f-486d6900403b",
   "metadata": {},
   "outputs": [],
   "source": [
    "CRPICO_Result"
   ]
  },
  {
   "cell_type": "code",
   "execution_count": null,
   "id": "b8a6fc71-c7de-4e14-9cf6-dbbae417eeb3",
   "metadata": {},
   "outputs": [],
   "source": [
    "Incumbent_proportions = (\n",
    "    data_subset[data_subset['CRPICO'] == 'I']\n",
    "    .sort_values(by='proportion', ascending=False)\n",
    "    .replace({'w':'W'})\n",
    ")\n",
    "# I subsetted the dataframe by I variable which represents the Incumbent and sorted by proportions.\n",
    "# I renamed the lowercase w variables with uppercase in order to sum those value, which I did in the next cell."
   ]
  },
  {
   "cell_type": "code",
   "execution_count": null,
   "id": "4af506a0-945f-489d-b15b-7faefc1f7fcc",
   "metadata": {},
   "outputs": [],
   "source": [
    "Incumbent_proportions"
   ]
  },
  {
   "cell_type": "code",
   "execution_count": null,
   "id": "bcc32111-c587-41a6-97ea-fec97bc8dbda",
   "metadata": {},
   "outputs": [],
   "source": [
    "Incumbent_proportion[Incumbent_proportion['Result'] == 'W']['proportion'].sum()\n",
    "# I summed the W variables."
   ]
  },
  {
   "cell_type": "markdown",
   "id": "e121fba6-1cf1-4550-be1a-bb8332f0dfe1",
   "metadata": {},
   "source": [
    "*The incumbent won a race 96% of the time in the 2020 congressional elections.*"
   ]
  },
  {
   "cell_type": "code",
   "execution_count": null,
   "id": "66390d4f-0c53-4289-ae9e-4d856566039b",
   "metadata": {},
   "outputs": [],
   "source": []
  }
 ],
 "metadata": {
  "kernelspec": {
   "display_name": "Python 3 (ipykernel)",
   "language": "python",
   "name": "python3"
  },
  "language_info": {
   "codemirror_mode": {
    "name": "ipython",
    "version": 3
   },
   "file_extension": ".py",
   "mimetype": "text/x-python",
   "name": "python",
   "nbconvert_exporter": "python",
   "pygments_lexer": "ipython3",
   "version": "3.12.1"
  }
 },
 "nbformat": 4,
 "nbformat_minor": 5
}
