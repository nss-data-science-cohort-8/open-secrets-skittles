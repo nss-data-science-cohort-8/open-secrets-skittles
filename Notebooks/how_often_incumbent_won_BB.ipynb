{
 "cells": [
  {
   "cell_type": "code",
   "execution_count": 1,
   "id": "f3bde3d6-eb2f-4553-a152-08f1803a56b2",
   "metadata": {},
   "outputs": [],
   "source": [
    "import pandas as pd"
   ]
  },
  {
   "cell_type": "code",
   "execution_count": 2,
   "id": "76a5d95b-43b2-4d60-af8a-096a398ffcc6",
   "metadata": {},
   "outputs": [],
   "source": [
    "state_df = pd.read_csv(r'C:\\Users\\billy\\Documents\\NSS_projects\\open-secrets-skittles\\Data\\states_districts_df.csv')"
   ]
  },
  {
   "cell_type": "code",
   "execution_count": 3,
   "id": "e702461f-1a49-4538-af73-1023e003c8ff",
   "metadata": {},
   "outputs": [],
   "source": [
    "CRPICO_Result = (\n",
    "    state_df\n",
    "    .groupby('CRPICO')['Result']\n",
    "    .value_counts(normalize=True)\n",
    "    .reset_index()\n",
    ")\n",
    "# I needed to compare the columns comprising the Incumbent, Challenger, and Open variables and result of the race.\n",
    "# I reset it to create a pandas dataframe. "
   ]
  },
  {
   "cell_type": "code",
   "execution_count": 4,
   "id": "3f1e83e6-4aab-4488-923f-486d6900403b",
   "metadata": {},
   "outputs": [
    {
     "data": {
      "text/html": [
       "<div>\n",
       "<style scoped>\n",
       "    .dataframe tbody tr th:only-of-type {\n",
       "        vertical-align: middle;\n",
       "    }\n",
       "\n",
       "    .dataframe tbody tr th {\n",
       "        vertical-align: top;\n",
       "    }\n",
       "\n",
       "    .dataframe thead th {\n",
       "        text-align: right;\n",
       "    }\n",
       "</style>\n",
       "<table border=\"1\" class=\"dataframe\">\n",
       "  <thead>\n",
       "    <tr style=\"text-align: right;\">\n",
       "      <th></th>\n",
       "      <th>CRPICO</th>\n",
       "      <th>Result</th>\n",
       "      <th>proportion</th>\n",
       "    </tr>\n",
       "  </thead>\n",
       "  <tbody>\n",
       "    <tr>\n",
       "      <th>0</th>\n",
       "      <td>C</td>\n",
       "      <td>L</td>\n",
       "      <td>0.533058</td>\n",
       "    </tr>\n",
       "    <tr>\n",
       "      <th>1</th>\n",
       "      <td>C</td>\n",
       "      <td></td>\n",
       "      <td>0.450413</td>\n",
       "    </tr>\n",
       "    <tr>\n",
       "      <th>2</th>\n",
       "      <td>C</td>\n",
       "      <td>W</td>\n",
       "      <td>0.016529</td>\n",
       "    </tr>\n",
       "    <tr>\n",
       "      <th>3</th>\n",
       "      <td>I</td>\n",
       "      <td>W</td>\n",
       "      <td>0.961140</td>\n",
       "    </tr>\n",
       "    <tr>\n",
       "      <th>4</th>\n",
       "      <td>I</td>\n",
       "      <td>L</td>\n",
       "      <td>0.031088</td>\n",
       "    </tr>\n",
       "    <tr>\n",
       "      <th>5</th>\n",
       "      <td>I</td>\n",
       "      <td>w</td>\n",
       "      <td>0.005181</td>\n",
       "    </tr>\n",
       "    <tr>\n",
       "      <th>6</th>\n",
       "      <td>I</td>\n",
       "      <td></td>\n",
       "      <td>0.002591</td>\n",
       "    </tr>\n",
       "    <tr>\n",
       "      <th>7</th>\n",
       "      <td>O</td>\n",
       "      <td>L</td>\n",
       "      <td>0.394737</td>\n",
       "    </tr>\n",
       "    <tr>\n",
       "      <th>8</th>\n",
       "      <td>O</td>\n",
       "      <td>W</td>\n",
       "      <td>0.309211</td>\n",
       "    </tr>\n",
       "    <tr>\n",
       "      <th>9</th>\n",
       "      <td>O</td>\n",
       "      <td></td>\n",
       "      <td>0.282895</td>\n",
       "    </tr>\n",
       "    <tr>\n",
       "      <th>10</th>\n",
       "      <td>O</td>\n",
       "      <td>l</td>\n",
       "      <td>0.006579</td>\n",
       "    </tr>\n",
       "    <tr>\n",
       "      <th>11</th>\n",
       "      <td>O</td>\n",
       "      <td>w</td>\n",
       "      <td>0.006579</td>\n",
       "    </tr>\n",
       "  </tbody>\n",
       "</table>\n",
       "</div>"
      ],
      "text/plain": [
       "   CRPICO Result  proportion\n",
       "0       C      L    0.533058\n",
       "1       C           0.450413\n",
       "2       C      W    0.016529\n",
       "3       I      W    0.961140\n",
       "4       I      L    0.031088\n",
       "5       I      w    0.005181\n",
       "6       I           0.002591\n",
       "7       O      L    0.394737\n",
       "8       O      W    0.309211\n",
       "9       O           0.282895\n",
       "10      O      l    0.006579\n",
       "11      O      w    0.006579"
      ]
     },
     "execution_count": 4,
     "metadata": {},
     "output_type": "execute_result"
    }
   ],
   "source": [
    "CRPICO_Result"
   ]
  },
  {
   "cell_type": "code",
   "execution_count": 5,
   "id": "b8a6fc71-c7de-4e14-9cf6-dbbae417eeb3",
   "metadata": {},
   "outputs": [],
   "source": [
    "Incumbent_proportions = (\n",
    "    CRPICO_Result[CRPICO_Result['CRPICO'] == 'I']\n",
    "    .sort_values(by='proportion', ascending=False)\n",
    "    .replace({'w':'W'})\n",
    ")\n",
    "# I subsetted the dataframe by I variable which represents the Incumbent and sorted by proportions.\n",
    "# I renamed the lowercase w variables with uppercase in order to sum those value, which I did in the next cell."
   ]
  },
  {
   "cell_type": "code",
   "execution_count": 6,
   "id": "4af506a0-945f-489d-b15b-7faefc1f7fcc",
   "metadata": {},
   "outputs": [
    {
     "data": {
      "text/html": [
       "<div>\n",
       "<style scoped>\n",
       "    .dataframe tbody tr th:only-of-type {\n",
       "        vertical-align: middle;\n",
       "    }\n",
       "\n",
       "    .dataframe tbody tr th {\n",
       "        vertical-align: top;\n",
       "    }\n",
       "\n",
       "    .dataframe thead th {\n",
       "        text-align: right;\n",
       "    }\n",
       "</style>\n",
       "<table border=\"1\" class=\"dataframe\">\n",
       "  <thead>\n",
       "    <tr style=\"text-align: right;\">\n",
       "      <th></th>\n",
       "      <th>CRPICO</th>\n",
       "      <th>Result</th>\n",
       "      <th>proportion</th>\n",
       "    </tr>\n",
       "  </thead>\n",
       "  <tbody>\n",
       "    <tr>\n",
       "      <th>3</th>\n",
       "      <td>I</td>\n",
       "      <td>W</td>\n",
       "      <td>0.961140</td>\n",
       "    </tr>\n",
       "    <tr>\n",
       "      <th>4</th>\n",
       "      <td>I</td>\n",
       "      <td>L</td>\n",
       "      <td>0.031088</td>\n",
       "    </tr>\n",
       "    <tr>\n",
       "      <th>5</th>\n",
       "      <td>I</td>\n",
       "      <td>W</td>\n",
       "      <td>0.005181</td>\n",
       "    </tr>\n",
       "    <tr>\n",
       "      <th>6</th>\n",
       "      <td>I</td>\n",
       "      <td></td>\n",
       "      <td>0.002591</td>\n",
       "    </tr>\n",
       "  </tbody>\n",
       "</table>\n",
       "</div>"
      ],
      "text/plain": [
       "  CRPICO Result  proportion\n",
       "3      I      W    0.961140\n",
       "4      I      L    0.031088\n",
       "5      I      W    0.005181\n",
       "6      I           0.002591"
      ]
     },
     "execution_count": 6,
     "metadata": {},
     "output_type": "execute_result"
    }
   ],
   "source": [
    "Incumbent_proportions"
   ]
  },
  {
   "cell_type": "code",
   "execution_count": 7,
   "id": "bcc32111-c587-41a6-97ea-fec97bc8dbda",
   "metadata": {},
   "outputs": [
    {
     "data": {
      "text/plain": [
       "0.966321243523316"
      ]
     },
     "execution_count": 7,
     "metadata": {},
     "output_type": "execute_result"
    }
   ],
   "source": [
    "Incumbent_proportions[Incumbent_proportions['Result'] == 'W']['proportion'].sum()\n",
    "# I summed the W variables."
   ]
  },
  {
   "cell_type": "markdown",
   "id": "e121fba6-1cf1-4550-be1a-bb8332f0dfe1",
   "metadata": {},
   "source": [
    "*The incumbent won a race 96.6% of the time in the 2020 congressional elections.*"
   ]
  },
  {
   "cell_type": "code",
   "execution_count": null,
   "id": "66390d4f-0c53-4289-ae9e-4d856566039b",
   "metadata": {},
   "outputs": [],
   "source": []
  }
 ],
 "metadata": {
  "kernelspec": {
   "display_name": "Python 3 (ipykernel)",
   "language": "python",
   "name": "python3"
  },
  "language_info": {
   "codemirror_mode": {
    "name": "ipython",
    "version": 3
   },
   "file_extension": ".py",
   "mimetype": "text/x-python",
   "name": "python",
   "nbconvert_exporter": "python",
   "pygments_lexer": "ipython3",
   "version": "3.12.4"
  }
 },
 "nbformat": 4,
 "nbformat_minor": 5
}
